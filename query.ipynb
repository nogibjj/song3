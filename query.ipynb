{
 "cells": [
  {
   "cell_type": "code",
   "execution_count": 109,
   "metadata": {},
   "outputs": [],
   "source": [
    "import sqlite3 as sql"
   ]
  },
  {
   "cell_type": "code",
   "execution_count": 110,
   "metadata": {},
   "outputs": [],
   "source": [
    "# create a SQL connection to SQLite database\n",
    "conn = sql.connect(\"baseball.sqlite\")\n",
    "cur = conn.cursor()"
   ]
  },
  {
   "cell_type": "code",
   "execution_count": 111,
   "metadata": {},
   "outputs": [
    {
     "name": "stdout",
     "output_type": "stream",
     "text": [
      "[('allstarfull',), ('appearances',), ('awardsmanagers',), ('awardsplayers',), ('awardssharemanagers',), ('awardsshareplayers',), ('batting',), ('battingpost',), ('collegeplaying',), ('divisions',), ('fielding',), ('fieldingof',), ('fieldingofsplit',), ('fieldingpost',), ('halloffame',), ('homegames',), ('leagues',), ('managers',), ('managershalf',), ('parks',), ('people',), ('pitching',), ('pitchingpost',), ('salaries',), ('schools',), ('seriespost',), ('teams',), ('teamsfranchises',), ('teamshalf',), ('ryu',)]\n"
     ]
    }
   ],
   "source": [
    "# list tables in the database\n",
    "cur.execute(\"SELECT name FROM sqlite_master WHERE type='table'\")\n",
    "print(cur.fetchall())"
   ]
  },
  {
   "cell_type": "code",
   "execution_count": 112,
   "metadata": {},
   "outputs": [
    {
     "name": "stdout",
     "output_type": "stream",
     "text": [
      "(42452, 'ryuhy01', 2013, 1, 'LAN', 2729, 'NL', 14, 8, 30, 30, 2, 1, 0, 576, 182, 64, 15, 49, 154, 0.252, 3.0, 4, 5, 1, 0, 783, 0, 67, 7, 3, 26)\n",
      "(43185, 'ryuhy01', 2014, 1, 'LAN', 2759, 'NL', 14, 7, 26, 26, 0, 0, 0, 456, 152, 57, 8, 29, 139, 0.257, 3.38, 2, 2, 3, 0, 631, 0, 60, 6, 2, 12)\n",
      "(44802, 'ryuhy01', 2016, 1, 'LAN', 2819, 'NL', 0, 1, 1, 1, 0, 0, 0, 14, 8, 6, 1, 2, 4, 0.364, 11.57, 1, 0, 0, 0, 24, 0, 6, 0, 0, 0)\n",
      "(45629, 'ryuhy01', 2017, 1, 'LAN', 2849, 'NL', 5, 9, 25, 24, 0, 0, 1, 380, 128, 53, 22, 45, 116, 0.263, 3.77, 3, 4, 4, 1, 541, 1, 58, 4, 1, 11)\n",
      "(46512, 'ryuhy01', 2018, 1, 'LAN', 2879, 'NL', 7, 3, 15, 15, 0, 0, 0, 247, 68, 18, 9, 15, 89, 0.221, 1.97, 1, 0, 1, 0, 324, 0, 23, 1, 0, 8)\n",
      "(47422, 'ryuhy01', 2019, 1, 'LAN', 2909, 'NL', 14, 5, 29, 29, 1, 1, 0, 548, 160, 47, 17, 24, 163, 0.234, 2.32, 2, 0, 4, 0, 723, 0, 53, 8, 2, 17)\n"
     ]
    }
   ],
   "source": [
    "# select Ryu's pitching stats\n",
    "cur.execute(\"SELECT * FROM pitching WHERE playerID == 'ryuhy01'\")\n",
    "rows = cur.fetchall()\n",
    "for row in rows:\n",
    "    print(row)"
   ]
  },
  {
   "cell_type": "code",
   "execution_count": 129,
   "metadata": {},
   "outputs": [
    {
     "name": "stdout",
     "output_type": "stream",
     "text": [
      "[(40212, 'parkch01', 2010, 2, 'PIT', 2647, 'NL', 2, 2, 26, 0, 0, 0, 0, 85, 25, 11, 2, 7, 23, 0.227, 3.49, 1, 5, 2, 0, 121, 11, 14, 1, 1, 0)]\n"
     ]
    }
   ],
   "source": [
    "# select the most recent season for Park\n",
    "cur.execute(\"SELECT * FROM pitching WHERE playerID == 'parkch01' ORDER BY yearID DESC LIMIT 1\")\n",
    "print(cur.fetchall())"
   ]
  },
  {
   "cell_type": "code",
   "execution_count": 130,
   "metadata": {},
   "outputs": [
    {
     "name": "stdout",
     "output_type": "stream",
     "text": [
      "[(19,)]\n"
     ]
    }
   ],
   "source": [
    "# check how many seasons Park has played\n",
    "cur.execute(\"SELECT COUNT(*) FROM pitching WHERE playerID == 'parkch01'\")\n",
    "print(cur.fetchall())"
   ]
  },
  {
   "cell_type": "code",
   "execution_count": 113,
   "metadata": {},
   "outputs": [
    {
     "data": {
      "text/plain": [
       "[(54,)]"
      ]
     },
     "execution_count": 113,
     "metadata": {},
     "output_type": "execute_result"
    }
   ],
   "source": [
    "# calculate Ryu's Wins\n",
    "query1 = \"\"\"SELECT sum(W) from pitching WHERE playerID == 'ryuhy01'\"\"\"\n",
    "cur.execute(query1)\n",
    "cur.fetchall()"
   ]
  },
  {
   "cell_type": "code",
   "execution_count": 114,
   "metadata": {},
   "outputs": [
    {
     "data": {
      "text/plain": [
       "[(33,)]"
      ]
     },
     "execution_count": 114,
     "metadata": {},
     "output_type": "execute_result"
    }
   ],
   "source": [
    "# calculate Ryu's Losses\n",
    "query2 = \"\"\"SELECT sum(L) from pitching WHERE playerID == 'ryuhy01'\"\"\"\n",
    "cur.execute(query2)\n",
    "cur.fetchall()"
   ]
  },
  {
   "cell_type": "code",
   "execution_count": 115,
   "metadata": {},
   "outputs": [
    {
     "data": {
      "text/plain": [
       "[(124,)]"
      ]
     },
     "execution_count": 115,
     "metadata": {},
     "output_type": "execute_result"
    }
   ],
   "source": [
    "# calculate Park's Wins\n",
    "query3 = \"\"\"SELECT sum(W) from pitching WHERE playerID == 'parkch01'\"\"\"\n",
    "cur.execute(query3)\n",
    "cur.fetchall()"
   ]
  },
  {
   "cell_type": "code",
   "execution_count": 116,
   "metadata": {},
   "outputs": [
    {
     "data": {
      "text/plain": [
       "[(98,)]"
      ]
     },
     "execution_count": 116,
     "metadata": {},
     "output_type": "execute_result"
    }
   ],
   "source": [
    "# calculate Park's Losses\n",
    "query4 = \"\"\"SELECT sum(L) from pitching WHERE playerID == 'parkch01'\"\"\"\n",
    "cur.execute(query4)\n",
    "cur.fetchall()"
   ]
  },
  {
   "cell_type": "code",
   "execution_count": 117,
   "metadata": {},
   "outputs": [],
   "source": [
    "# create a table called pitchers\n",
    "cur.execute(\"CREATE TABLE IF NOT EXISTS pitchers (name TEXT NOT NULL, W INTEGER, L INTEGER)\")\n",
    "conn.commit()"
   ]
  },
  {
   "cell_type": "code",
   "execution_count": 118,
   "metadata": {},
   "outputs": [],
   "source": [
    "# inserts data into pitchers table\n",
    "cur.execute(\"\"\"INSERT INTO pitchers (name, W, L) VALUES ('RYU', 54, 33)\"\"\")\n",
    "cur.execute(\"\"\"INSERT INTO pitchers (name, W, L) VALUES ('PARK', 124, 98)\"\"\")\n",
    "conn.commit()"
   ]
  },
  {
   "cell_type": "code",
   "execution_count": 119,
   "metadata": {},
   "outputs": [
    {
     "data": {
      "text/plain": [
       "[('RYU', 54, 33), ('PARK', 124, 98)]"
      ]
     },
     "execution_count": 119,
     "metadata": {},
     "output_type": "execute_result"
    }
   ],
   "source": [
    "# read data from pitchers table\n",
    "cur.execute(\"\"\"SELECT * FROM pitchers\"\"\")\n",
    "cur.fetchall()"
   ]
  },
  {
   "cell_type": "code",
   "execution_count": 132,
   "metadata": {},
   "outputs": [
    {
     "data": {
      "image/png": "[encoded data removed]",
      "text/plain": [
       "<Figure size 432x288 with 1 Axes>"
      ]
     },
     "metadata": {
      "needs_background": "light"
     },
     "output_type": "display_data"
    }
   ],
   "source": [
    "# visualize Ryu's data from database\n",
    "import matplotlib.pyplot as plt\n",
    "\n",
    "cur.execute(\"SELECT * FROM pitching WHERE playerID == 'ryuhy01'\")\n",
    "YEAR = []\n",
    "Wins = []\n",
    "Losses = []\n",
    "\n",
    "for row in cur:\n",
    "    YEAR.append(row[2])\n",
    "    Wins.append(row[7])\n",
    "    Losses.append(row[8])\n",
    "\n",
    "plt.plot(YEAR, Wins, label = \"Wins\")\n",
    "plt.plot(YEAR, Losses, label = \"Losses\")\n",
    "plt.xlabel(\"Year\")\n",
    "plt.ylabel(\"Wins/Losses\")\n",
    "plt.title(\"Ryu's Wins/Losses by Year\")\n",
    "plt.legend()\n",
    "plt.show()"
   ]
  },
  {
   "cell_type": "code",
   "execution_count": 131,
   "metadata": {},
   "outputs": [
    {
     "data": {
      "image/png": "[encoded data removed]",
      "text/plain": [
       "<Figure size 432x288 with 1 Axes>"
      ]
     },
     "metadata": {
      "needs_background": "light"
     },
     "output_type": "display_data"
    }
   ],
   "source": [
    "# visualize Park's data from database\n",
    "import numpy as np\n",
    "import matplotlib.pyplot as plt\n",
    "\n",
    "cur.execute(\"SELECT * FROM pitching WHERE playerID == 'parkch01'\")\n",
    "Year = []\n",
    "Wins = []\n",
    "\n",
    "for row in cur:\n",
    "    Year.append(row[2])\n",
    "    Wins.append(row[7])\n",
    "\n",
    "plt.plot(Year, Wins)\n",
    "plt.xlabel('Year')\n",
    "plt.ylabel('Wins')\n",
    "plt.title('Park\\'s Wins by Year')\n",
    "plt.show()"
   ]
  }
 ],
 "metadata": {
  "kernelspec": {
   "display_name": "Python 3.9.12 ('base')",
   "language": "python",
   "name": "python3"
  },
  "language_info": {
   "codemirror_mode": {
    "name": "ipython",
    "version": 3
   },
   "file_extension": ".py",
   "mimetype": "text/x-python",
   "name": "python",
   "nbconvert_exporter": "python",
   "pygments_lexer": "ipython3",
   "version": "3.9.12"
  },
  "orig_nbformat": 4,
  "vscode": {
   "interpreter": {
    "hash": "a92526385d613339fdfc3220bd081595a0042773833489b7647304f7dd79b12e"
   }
  }
 },
 "nbformat": 4,
 "nbformat_minor": 2
}
